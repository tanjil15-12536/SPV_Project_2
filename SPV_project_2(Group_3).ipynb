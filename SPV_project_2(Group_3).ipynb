{
  "nbformat": 4,
  "nbformat_minor": 0,
  "metadata": {
    "colab": {
      "name": "SPV project 2(Group 3).ipynb",
      "provenance": [],
      "collapsed_sections": [],
      "mount_file_id": "1s9UsCbw9G1DJ0nm5C5xMedgfHnQ7YtaO",
      "authorship_tag": "ABX9TyObcZOlcW+wL2kgD8stYXtA",
      "include_colab_link": true
    },
    "kernelspec": {
      "name": "python3",
      "display_name": "Python 3"
    },
    "language_info": {
      "name": "python"
    }
  },
  "cells": [
    {
      "cell_type": "markdown",
      "metadata": {
        "id": "view-in-github",
        "colab_type": "text"
      },
      "source": [
        "<a href=\"https://colab.research.google.com/github/tanjil15-12536/SPV_Project_2/blob/main/SPV_project_2(Group_3).ipynb\" target=\"_parent\"><img src=\"https://colab.research.google.com/assets/colab-badge.svg\" alt=\"Open In Colab\"/></a>"
      ]
    },
    {
      "cell_type": "code",
      "metadata": {
        "colab": {
          "base_uri": "https://localhost:8080/"
        },
        "id": "zGvQYNpsqGGS",
        "outputId": "d5b60c80-cef6-45d8-d674-73401bed5c7f"
      },
      "source": [
        "print(\"I am Tanjil Rahman\")"
      ],
      "execution_count": 3,
      "outputs": [
        {
          "output_type": "stream",
          "text": [
            "I am Tanjil Rahman\n"
          ],
          "name": "stdout"
        }
      ]
    }
  ]
}